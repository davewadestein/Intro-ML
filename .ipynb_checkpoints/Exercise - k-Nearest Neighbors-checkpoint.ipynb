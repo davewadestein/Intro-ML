{
 "cells": [
  {
   "cell_type": "markdown",
   "id": "13d0c362",
   "metadata": {},
   "source": [
    "# Exercise: k-Nearest Neighbors\n",
    "1. Read in the Social Networks Ads dataset __`data/Social_Network_Ads.csv`__\n",
    "1. Examine the dataset\n",
    "1. Drop any irrelevant columns\n",
    "1. Deal with categorical variables\n",
    "1. The target is whether the person purchased the item or not\n",
    "1. Split your data into training and test sets\n",
    "1. Use the default KNeighborsClassifier\n",
    "1. Generate a confusion matrix to see how your model performed\n",
    "1. kNN will not perform well when the inputs are not properly scaled\n",
    "  * the scale of the values of Age, EstimatedSalary, and Gender are wildly different\n",
    "  * use a __StandardScaler()__ from __`sklearn.preprocessing`__ to scale your X values as follows and try again\n",
    "  * __`sc = StandardScaler()`__\n",
    "  * __`X_train = sc.fit_transform(X_train)`__\n",
    "  * __`X_test = sc.transform(X_test)`__\n",
    "1. Did your model perform better after scaling?\n",
    "1. If you have time, try different values of k"
   ]
  },
  {
   "cell_type": "code",
   "execution_count": 120,
   "id": "23dd28c4",
   "metadata": {},
   "outputs": [],
   "source": [
    "import numpy as np\n",
    "import matplotlib.pyplot as plt\n",
    "import pandas as pd\n",
    "%matplotlib inline"
   ]
  },
  {
   "cell_type": "code",
   "execution_count": 131,
   "id": "32910db8",
   "metadata": {},
   "outputs": [],
   "source": [
    "# Read in the dataset\n",
    "data = pd.read_csv('data/Social_Network_Ads.csv')"
   ]
  },
  {
   "cell_type": "code",
   "execution_count": 132,
   "id": "d6323b5b",
   "metadata": {},
   "outputs": [],
   "source": [
    "# Convert categorical variables to numeric\n",
    "data = pd.get_dummies(dataset, drop_first=True)"
   ]
  },
  {
   "cell_type": "code",
   "execution_count": 133,
   "id": "2db590a6",
   "metadata": {},
   "outputs": [],
   "source": [
    "# User ID is irrelvant and could be leakage data, so drop it\n",
    "# Also drop the target we are trying to predict\n",
    "X = data.drop(columns=['User ID', 'Purchased'])\n",
    "y = data['Purchased']"
   ]
  },
  {
   "cell_type": "code",
   "execution_count": 134,
   "id": "76dbdfc8",
   "metadata": {},
   "outputs": [],
   "source": [
    "# Split the dataset into training and test sets\n",
    "from sklearn.model_selection import train_test_split\n",
    "X_train, X_test, y_train, y_test = train_test_split(X, y, test_size=0.25, random_state=13)"
   ]
  },
  {
   "cell_type": "code",
   "execution_count": 135,
   "id": "7c9e3a45",
   "metadata": {},
   "outputs": [],
   "source": [
    "# Scale the data\n",
    "from sklearn.preprocessing import StandardScaler\n",
    "sc = StandardScaler()\n",
    "X_train = sc.fit_transform(X_train)\n",
    "X_test = sc.transform(X_test)"
   ]
  },
  {
   "cell_type": "code",
   "execution_count": 173,
   "id": "247babe7",
   "metadata": {},
   "outputs": [
    {
     "data": {
      "text/plain": [
       "KNeighborsClassifier()"
      ]
     },
     "execution_count": 173,
     "metadata": {},
     "output_type": "execute_result"
    }
   ],
   "source": [
    "# Train the model\n",
    "from sklearn.neighbors import KNeighborsClassifier\n",
    "knn = KNeighborsClassifier()\n",
    "knn.fit(X_train, y_train)"
   ]
  },
  {
   "cell_type": "code",
   "execution_count": 171,
   "id": "ce73fb8f",
   "metadata": {},
   "outputs": [],
   "source": [
    "# Make predictions\n",
    "y_pred = knn.predict(X_test)"
   ]
  },
  {
   "cell_type": "code",
   "execution_count": 172,
   "id": "d2e62021",
   "metadata": {},
   "outputs": [
    {
     "data": {
      "text/plain": [
       "array([[63,  9],\n",
       "       [ 2, 26]])"
      ]
     },
     "execution_count": 172,
     "metadata": {},
     "output_type": "execute_result"
    }
   ],
   "source": [
    "# Create the Confusion Matrix\n",
    "from sklearn.metrics import confusion_matrix\n",
    "cm = confusion_matrix(y_test, y_pred)\n",
    "cm"
   ]
  },
  {
   "cell_type": "code",
   "execution_count": 150,
   "id": "c22481a4",
   "metadata": {},
   "outputs": [
    {
     "data": {
      "image/png": "[encoded data removed]",
      "text/plain": [
       "<Figure size 432x288 with 2 Axes>"
      ]
     },
     "metadata": {
      "needs_background": "light"
     },
     "output_type": "display_data"
    }
   ],
   "source": [
    "import seaborn as sns\n",
    "sns.heatmap(cm, annot=True, xticklabels='pred_no_buy pred_buy'.split(), yticklabels='no_buy buy'.split());"
   ]
  },
  {
   "cell_type": "code",
   "execution_count": null,
   "id": "5167c613",
   "metadata": {},
   "outputs": [],
   "source": []
  }
 ],
 "metadata": {
  "kernelspec": {
   "display_name": "Python 3 (ipykernel)",
   "language": "python",
   "name": "python3"
  },
  "language_info": {
   "codemirror_mode": {
    "name": "ipython",
    "version": 3
   },
   "file_extension": ".py",
   "mimetype": "text/x-python",
   "name": "python",
   "nbconvert_exporter": "python",
   "pygments_lexer": "ipython3",
   "version": "3.8.2"
  }
 },
 "nbformat": 4,
 "nbformat_minor": 5
}
