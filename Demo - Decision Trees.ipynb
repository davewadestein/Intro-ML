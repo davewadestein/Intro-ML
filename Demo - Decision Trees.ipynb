{
 "cells": [
  {
   "cell_type": "markdown",
   "metadata": {},
   "source": [
    "# Demo: Decision Trees"
   ]
  },
  {
   "cell_type": "code",
   "execution_count": null,
   "metadata": {
    "ExecuteTime": {
     "end_time": "2018-03-16T21:39:31.319304Z",
     "start_time": "2018-03-16T21:39:30.939678Z"
    }
   },
   "outputs": [],
   "source": [
    "from sklearn.datasets import load_iris\n",
    "from sklearn.tree import DecisionTreeClassifier"
   ]
  },
  {
   "cell_type": "code",
   "execution_count": null,
   "metadata": {
    "ExecuteTime": {
     "end_time": "2018-03-16T21:41:25.986310Z",
     "start_time": "2018-03-16T21:41:25.978916Z"
    }
   },
   "outputs": [],
   "source": [
    "# Load the Iris dataset\n",
    "iris = load_iris()\n",
    "\n",
    "# We're going to consider two of the four feature names, petal length\n",
    "# and petal width, and we'll ignore sepal length and width.\n",
    "X = iris.data[:, 2:]\n",
    "y = iris.target"
   ]
  },
  {
   "cell_type": "code",
   "execution_count": null,
   "metadata": {
    "ExecuteTime": {
     "end_time": "2018-03-16T21:39:31.343030Z",
     "start_time": "2018-03-16T21:39:31.329602Z"
    }
   },
   "outputs": [],
   "source": [
    "tree_clf = DecisionTreeClassifier(max_depth=2)\n",
    "tree_clf.fit(X, y)"
   ]
  },
  {
   "cell_type": "code",
   "execution_count": null,
   "metadata": {
    "ExecuteTime": {
     "end_time": "2018-03-16T21:39:31.349788Z",
     "start_time": "2018-03-16T21:39:31.344850Z"
    }
   },
   "outputs": [],
   "source": [
    "# Let's take a look at the decision tree...\n",
    "from sklearn.tree import export_graphviz\n",
    "export_graphviz(tree_clf, out_file=\"iris_tree.dot\",\n",
    "               feature_names=iris.feature_names[2:],\n",
    "               class_names=iris.target_names,\n",
    "               rounded=True,\n",
    "               filled=True)"
   ]
  },
  {
   "cell_type": "code",
   "execution_count": null,
   "metadata": {
    "ExecuteTime": {
     "end_time": "2018-03-16T21:39:31.354079Z",
     "start_time": "2018-03-16T21:39:31.351575Z"
    }
   },
   "outputs": [],
   "source": [
    "# dot will convert the tree from a .dot file to a .png\n",
    "# In case you don't have dot installed, the png is already\n",
    "# in your zip file\n",
    "!dot -Tpng iris_tree.dot -o iris_tree.png\n",
    "from IPython.display import Image\n",
    "Image('iris_tree.png')"
   ]
  },
  {
   "cell_type": "code",
   "execution_count": null,
   "metadata": {},
   "outputs": [],
   "source": [
    "# We can also have scikit-learn plot the tree...\n",
    "import matplotlib.pyplot as plt\n",
    "from sklearn.tree import plot_tree\n",
    "plt.figure(figsize=(18, 8))\n",
    "plot_tree(tree_clf, feature_names=iris.feature_names[2:]);"
   ]
  },
  {
   "cell_type": "markdown",
   "metadata": {},
   "source": [
    "## Let's see how we did..."
   ]
  },
  {
   "cell_type": "code",
   "execution_count": null,
   "metadata": {},
   "outputs": [],
   "source": [
    "tree_clf.score(X, y)"
   ]
  },
  {
   "cell_type": "code",
   "execution_count": null,
   "metadata": {},
   "outputs": [],
   "source": [
    "tree_clf.feature_importances_"
   ]
  },
  {
   "cell_type": "markdown",
   "metadata": {},
   "source": [
    "## Feature Importances\n",
    "* Because of the way the model works, we can determine which features were important by computing the total amount of information gained from splitting on a per-feature basis\n",
    "* The \"most important feature\" is the one whose splits most increased homogeniety during training"
   ]
  },
  {
   "cell_type": "code",
   "execution_count": null,
   "metadata": {},
   "outputs": [],
   "source": [
    "import pandas as pd\n",
    "feat_importances = pd.Series(tree_clf.feature_importances_, index=iris.feature_names[2:])\n",
    "feat_importances.sort_values().plot(kind='barh', figsize=(6, 6));"
   ]
  },
  {
   "cell_type": "markdown",
   "metadata": {},
   "source": [
    "## Suppose we encountered a new iris in the wild...\n",
    "* we mesure the petal length at 5.0 cm and petal width 1.5 cm\n",
    "* ...what are the probabilities we would classify it as each of the different species of iris?"
   ]
  },
  {
   "cell_type": "code",
   "execution_count": null,
   "metadata": {
    "ExecuteTime": {
     "end_time": "2018-03-16T21:39:31.361729Z",
     "start_time": "2018-03-16T21:39:31.356321Z"
    }
   },
   "outputs": [],
   "source": [
    "tree_clf.predict_proba([[5.0, 1.5]])"
   ]
  },
  {
   "cell_type": "code",
   "execution_count": null,
   "metadata": {
    "ExecuteTime": {
     "end_time": "2018-03-16T21:39:31.368028Z",
     "start_time": "2018-03-16T21:39:31.363234Z"
    }
   },
   "outputs": [],
   "source": [
    "tree_clf.predict([[5, 1.5]])"
   ]
  },
  {
   "cell_type": "code",
   "execution_count": null,
   "metadata": {},
   "outputs": [],
   "source": [
    "iris.target_names[1]"
   ]
  },
  {
   "cell_type": "code",
   "execution_count": null,
   "metadata": {},
   "outputs": [],
   "source": [
    "iris.target"
   ]
  }
 ],
 "metadata": {
  "kernelspec": {
   "display_name": "Python 3 (ipykernel)",
   "language": "python",
   "name": "python3"
  },
  "language_info": {
   "codemirror_mode": {
    "name": "ipython",
    "version": 3
   },
   "file_extension": ".py",
   "mimetype": "text/x-python",
   "name": "python",
   "nbconvert_exporter": "python",
   "pygments_lexer": "ipython3",
   "version": "3.8.2"
  }
 },
 "nbformat": 4,
 "nbformat_minor": 2
}
