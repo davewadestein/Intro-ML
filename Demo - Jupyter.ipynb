{
 "cells": [
  {
   "cell_type": "markdown",
   "metadata": {
    "slideshow": {
     "slide_type": "slide"
    }
   },
   "source": [
    "# Demo: Jupyter Notebooks\n",
    "* open-source web application that allows you to create and share documents that contain live code, equations, visualizations and narrative text\n",
    "* uses\n",
    "  * data cleaning and transformation\n",
    "  * numerical simulation\n",
    "  * statistical modeling\n",
    "  * data visualization\n",
    "  * machine learning\n",
    "  * ..."
   ]
  },
  {
   "cell_type": "markdown",
   "metadata": {
    "collapsed": true,
    "slideshow": {
     "slide_type": "subslide"
    }
   },
   "source": [
    "## Entering Text and Running Code in Jupyter\n",
    "* Each place for you to enter text is called a _cell_\n",
    "* Usually you enter __`Python`__ code, but you can also enter text in a _markup_ language called __`Markdown`__ (that's what's going on in _this_ cell)\n",
    "* To \"run\" the code in the cell, hit __Shift-Return__ (i.e., hold down __Shift__ key, then hit __Return__) or hit the \"Run\" button in the toolbar ![alt text](images/Play.png) \n",
    "* Try it with the cell below..."
   ]
  },
  {
   "cell_type": "code",
   "execution_count": null,
   "metadata": {},
   "outputs": [],
   "source": [
    "x = 5.17\n",
    "x"
   ]
  },
  {
   "cell_type": "markdown",
   "metadata": {},
   "source": [
    "## How to Edit/Move/Interact With Jupyter Notebooks\n",
    "* the __up and down arrows__ in the toolbar enable you to move cells up and down as needeed\n",
    "* the __`Insert`__ menu will enable you to add a cell above or below the current cell\n",
    "* the __`Edit`__ menu will enable you to copy/paste/split/etc. cells\n",
    "* the __`File`__ menu will enable you to create a new notebook, save the current notebook (although it does autosave every 2 minutes), and more\n",
    "* the __`Kernel`__ menu will allow you to \"talk\" to the Python interpreter on your machine (when you type into a cell, the web browser sends the text to the Python interpreter to be \"run\")\n",
    "  * click __`Restart`__ to restart your Python interpreter in case something goes wrong and it stops responding to you\n",
    "  * click __`Restart and Clear Output`__ to restart the interpreter and clear all the outputs from each cell"
   ]
  }
 ],
 "metadata": {
  "celltoolbar": "Slideshow",
  "kernelspec": {
   "display_name": "Python 3 (ipykernel)",
   "language": "python",
   "name": "python3"
  },
  "language_info": {
   "codemirror_mode": {
    "name": "ipython",
    "version": 3
   },
   "file_extension": ".py",
   "mimetype": "text/x-python",
   "name": "python",
   "nbconvert_exporter": "python",
   "pygments_lexer": "ipython3",
   "version": "3.8.2"
  }
 },
 "nbformat": 4,
 "nbformat_minor": 2
}
