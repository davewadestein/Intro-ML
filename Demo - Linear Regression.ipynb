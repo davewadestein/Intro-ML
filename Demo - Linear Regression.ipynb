{
 "cells": [
  {
   "cell_type": "markdown",
   "metadata": {},
   "source": [
    "# Demo: Linear Regression"
   ]
  },
  {
   "cell_type": "code",
   "execution_count": 1,
   "metadata": {
    "ExecuteTime": {
     "end_time": "2018-03-16T21:14:52.271291Z",
     "start_time": "2018-03-16T21:14:52.265698Z"
    }
   },
   "outputs": [],
   "source": [
    "%matplotlib inline\n",
    "import matplotlib.pyplot as plt\n",
    "import numpy as np"
   ]
  },
  {
   "cell_type": "markdown",
   "metadata": {},
   "source": [
    "## First, let's create some linear data"
   ]
  },
  {
   "cell_type": "code",
   "execution_count": 44,
   "metadata": {
    "ExecuteTime": {
     "end_time": "2018-03-16T21:14:52.279350Z",
     "start_time": "2018-03-16T21:14:52.273563Z"
    }
   },
   "outputs": [
    {
     "data": {
      "text/plain": [
       "array([8.73429403, 9.68540663, 8.6919454 , 5.30855692, 2.32728328,\n",
       "       0.11398804, 4.30468818, 4.0235136 , 5.22674671, 4.78391796,\n",
       "       5.55356474, 5.43386018, 7.60895576, 7.12374574, 6.19682096,\n",
       "       4.2609177 , 2.89075028, 9.73855241, 3.33774046, 2.18801061,\n",
       "       0.65808388, 9.82870547, 1.27855713, 3.22130793, 0.70942845,\n",
       "       2.24769939, 3.93634915, 8.96145005, 3.45461612, 9.84749437,\n",
       "       0.28732049, 3.51684736, 3.80958889, 7.64160131, 9.38803913,\n",
       "       3.19689796, 4.32475933, 2.70145742, 8.01055886, 6.38238806,\n",
       "       0.68690133, 6.03644476, 7.95574558, 0.32008156, 4.55447822,\n",
       "       7.90172541, 9.88596518, 5.83964544, 0.38912298, 4.46422908])"
      ]
     },
     "execution_count": 44,
     "metadata": {},
     "output_type": "execute_result"
    }
   ],
   "source": [
    "rng = np.random.RandomState(8)\n",
    "x = 10 * rng.rand(50)\n",
    "x"
   ]
  },
  {
   "cell_type": "markdown",
   "metadata": {},
   "source": [
    "## Now let's add some random noise to the data"
   ]
  },
  {
   "cell_type": "code",
   "execution_count": 45,
   "metadata": {
    "ExecuteTime": {
     "end_time": "2018-03-16T21:14:52.365634Z",
     "start_time": "2018-03-16T21:14:52.281306Z"
    }
   },
   "outputs": [
    {
     "data": {
      "image/png": "[encoded data removed]",
      "text/plain": [
       "<Figure size 432x288 with 1 Axes>"
      ]
     },
     "metadata": {
      "needs_background": "light"
     },
     "output_type": "display_data"
    }
   ],
   "source": [
    "y = 2 * x - 6 + rng.normal(0.0, 1.0, 50)\n",
    "plt.scatter(x, y);"
   ]
  },
  {
   "cell_type": "markdown",
   "metadata": {},
   "source": [
    "## Now let's create a Linear Regressor\n",
    "* what we create here is an \"empty\" model, i.e., a model which has not yet been trained"
   ]
  },
  {
   "cell_type": "code",
   "execution_count": 46,
   "metadata": {
    "ExecuteTime": {
     "end_time": "2018-03-16T21:14:52.466703Z",
     "start_time": "2018-03-16T21:14:52.367693Z"
    }
   },
   "outputs": [],
   "source": [
    "from sklearn.linear_model import LinearRegression\n",
    "model = LinearRegression()"
   ]
  },
  {
   "cell_type": "markdown",
   "metadata": {},
   "source": [
    "## We need to convert the data from a 1-d array to a 2-d array (matrix)\n",
    "* we can use __`np.newaxis`__ to do that\n",
    "* it will increase the dimensionality of an array"
   ]
  },
  {
   "cell_type": "code",
   "execution_count": 36,
   "metadata": {
    "ExecuteTime": {
     "end_time": "2018-03-16T21:14:52.466703Z",
     "start_time": "2018-03-16T21:14:52.367693Z"
    }
   },
   "outputs": [
    {
     "data": {
      "text/plain": [
       "array([1.80269689, 0.19475241, 4.63218526, 7.24933929, 4.20203605,\n",
       "       4.85427098, 0.12780815, 4.87371607, 9.41806652, 8.50795089,\n",
       "       7.2996447 , 1.08736072, 8.9390417 , 8.57154247, 1.65086618,\n",
       "       6.32334014, 0.20483613, 1.16737269, 3.16367312, 1.57912307,\n",
       "       7.58979588, 8.18275358, 3.44624491, 3.18798797, 1.11661232,\n",
       "       0.83953143, 7.12725936, 5.99543396, 0.5567368 , 4.79797282,\n",
       "       4.01676481, 8.47978998, 7.17849179, 6.02064051, 5.52383822,\n",
       "       9.49102398, 9.8667333 , 3.3805405 , 2.39874679, 7.96435754,\n",
       "       0.63686431, 3.64615643, 0.70022803, 3.19367707, 0.70382595,\n",
       "       2.90263667, 7.90101123, 9.05400321, 7.92621385, 5.6181871 ])"
      ]
     },
     "execution_count": 36,
     "metadata": {},
     "output_type": "execute_result"
    }
   ],
   "source": [
    "x"
   ]
  },
  {
   "cell_type": "code",
   "execution_count": 37,
   "metadata": {
    "ExecuteTime": {
     "end_time": "2018-03-16T21:14:52.466703Z",
     "start_time": "2018-03-16T21:14:52.367693Z"
    }
   },
   "outputs": [
    {
     "data": {
      "text/plain": [
       "(50,)"
      ]
     },
     "execution_count": 37,
     "metadata": {},
     "output_type": "execute_result"
    }
   ],
   "source": [
    "x.shape"
   ]
  },
  {
   "cell_type": "code",
   "execution_count": 9,
   "metadata": {
    "ExecuteTime": {
     "end_time": "2018-03-16T21:14:52.466703Z",
     "start_time": "2018-03-16T21:14:52.367693Z"
    }
   },
   "outputs": [
    {
     "data": {
      "text/plain": [
       "array([[1.54162842],\n",
       "       [7.40049697],\n",
       "       [2.63315015],\n",
       "       [5.33739393],\n",
       "       [0.14574962],\n",
       "       [9.18747008],\n",
       "       [9.00714854],\n",
       "       [0.33421428],\n",
       "       [9.56949336],\n",
       "       [1.37209321],\n",
       "       [2.83828353],\n",
       "       [6.06083184],\n",
       "       [9.44225136],\n",
       "       [8.52735541],\n",
       "       [0.02259234],\n",
       "       [5.21226027],\n",
       "       [5.52037633],\n",
       "       [4.85377414],\n",
       "       [7.68134154],\n",
       "       [1.60716753],\n",
       "       [7.6456045 ],\n",
       "       [0.20809798],\n",
       "       [1.35210178],\n",
       "       [1.16273017],\n",
       "       [3.09897584],\n",
       "       [6.71452645],\n",
       "       [4.71229778],\n",
       "       [8.16168298],\n",
       "       [2.89586784],\n",
       "       [7.33125978],\n",
       "       [7.02622355],\n",
       "       [3.27569476],\n",
       "       [3.34647529],\n",
       "       [9.78058079],\n",
       "       [6.24582112],\n",
       "       [9.50313525],\n",
       "       [7.67475651],\n",
       "       [8.25009253],\n",
       "       [4.06640302],\n",
       "       [4.51308411],\n",
       "       [4.00631627],\n",
       "       [9.9513816 ],\n",
       "       [1.77564176],\n",
       "       [9.62596903],\n",
       "       [4.1925027 ],\n",
       "       [4.24052447],\n",
       "       [4.6314887 ],\n",
       "       [3.73723149],\n",
       "       [4.655081  ],\n",
       "       [0.35168261]])"
      ]
     },
     "execution_count": 9,
     "metadata": {},
     "output_type": "execute_result"
    }
   ],
   "source": [
    "x2 = x[:, np.newaxis] # increases the dimensionality of the array\n",
    "x2"
   ]
  },
  {
   "cell_type": "code",
   "execution_count": 10,
   "metadata": {
    "ExecuteTime": {
     "end_time": "2018-03-16T21:14:52.466703Z",
     "start_time": "2018-03-16T21:14:52.367693Z"
    }
   },
   "outputs": [
    {
     "data": {
      "text/plain": [
       "(50, 1)"
      ]
     },
     "execution_count": 10,
     "metadata": {},
     "output_type": "execute_result"
    }
   ],
   "source": [
    "x2.shape"
   ]
  },
  {
   "cell_type": "markdown",
   "metadata": {},
   "source": [
    "## Train our model"
   ]
  },
  {
   "cell_type": "code",
   "execution_count": 47,
   "metadata": {},
   "outputs": [
    {
     "data": {
      "text/plain": [
       "LinearRegression()"
      ]
     },
     "execution_count": 47,
     "metadata": {},
     "output_type": "execute_result"
    }
   ],
   "source": [
    "model.fit(x[:, np.newaxis], y)"
   ]
  },
  {
   "cell_type": "markdown",
   "metadata": {},
   "source": [
    "## Would be helpful to see the actual linear regression line\n",
    "* we can plot it\n",
    "* we'll create __`xfit`__, the endpoints of the line (0 and 10)\n",
    "* then we'll have our model _predict_ the y values for ech of those x values"
   ]
  },
  {
   "cell_type": "code",
   "execution_count": 48,
   "metadata": {},
   "outputs": [
    {
     "name": "stdout",
     "output_type": "stream",
     "text": [
      "x = [ 0. 10.]\n",
      "y = [-5.41254626 13.50682801]\n"
     ]
    }
   ],
   "source": [
    "xfit = np.linspace(0, 10, 2)\n",
    "yfit = model.predict(xfit[:, np.newaxis])\n",
    "print(f'x = {xfit}\\ny = {yfit}')"
   ]
  },
  {
   "cell_type": "markdown",
   "metadata": {},
   "source": [
    "## Now plot the points and the regression line"
   ]
  },
  {
   "cell_type": "code",
   "execution_count": 40,
   "metadata": {},
   "outputs": [
    {
     "data": {
      "image/png": "[encoded data removed]",
      "text/plain": [
       "<Figure size 432x288 with 1 Axes>"
      ]
     },
     "metadata": {
      "needs_background": "light"
     },
     "output_type": "display_data"
    }
   ],
   "source": [
    "plt.scatter(x, y)\n",
    "plt.plot(xfit, yfit, color='red');"
   ]
  },
  {
   "cell_type": "markdown",
   "metadata": {},
   "source": [
    "## Let's examine the coefficient and intercept"
   ]
  },
  {
   "cell_type": "code",
   "execution_count": 49,
   "metadata": {
    "ExecuteTime": {
     "end_time": "2018-03-16T21:14:52.473891Z",
     "start_time": "2018-03-16T21:14:52.468821Z"
    }
   },
   "outputs": [
    {
     "data": {
      "text/plain": [
       "array([1.89193743])"
      ]
     },
     "execution_count": 49,
     "metadata": {},
     "output_type": "execute_result"
    }
   ],
   "source": [
    "model.coef_"
   ]
  },
  {
   "cell_type": "code",
   "execution_count": 50,
   "metadata": {
    "ExecuteTime": {
     "end_time": "2018-03-16T21:14:52.481044Z",
     "start_time": "2018-03-16T21:14:52.475773Z"
    }
   },
   "outputs": [
    {
     "data": {
      "text/plain": [
       "-5.412546259728196"
      ]
     },
     "execution_count": 50,
     "metadata": {},
     "output_type": "execute_result"
    }
   ],
   "source": [
    "model.intercept_"
   ]
  },
  {
   "cell_type": "code",
   "execution_count": 51,
   "metadata": {},
   "outputs": [
    {
     "name": "stdout",
     "output_type": "stream",
     "text": [
      "y = 1.89x - 5.41\n"
     ]
    }
   ],
   "source": [
    "print(f'y = {model.coef_[0]:.2f}x - {abs(model.intercept_):.2f}')"
   ]
  }
 ],
 "metadata": {
  "kernelspec": {
   "display_name": "Python 3 (ipykernel)",
   "language": "python",
   "name": "python3"
  },
  "language_info": {
   "codemirror_mode": {
    "name": "ipython",
    "version": 3
   },
   "file_extension": ".py",
   "mimetype": "text/x-python",
   "name": "python",
   "nbconvert_exporter": "python",
   "pygments_lexer": "ipython3",
   "version": "3.8.2"
  }
 },
 "nbformat": 4,
 "nbformat_minor": 2
}
