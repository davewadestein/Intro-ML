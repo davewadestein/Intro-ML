{
 "cells": [
  {
   "cell_type": "markdown",
   "id": "6e289857",
   "metadata": {},
   "source": [
    "# A Visual Introduction to Machine Learning\n",
    "* Let's look at that example with the tools we're going to be using for this course\n",
    "* Don't worry, at this point you're not expect to know the details..."
   ]
  },
  {
   "cell_type": "code",
   "execution_count": null,
   "id": "f87aee0d",
   "metadata": {},
   "outputs": [],
   "source": [
    "# Pandas is a commonly-used data analysis tool for Python\n",
    "import pandas as pd"
   ]
  },
  {
   "cell_type": "code",
   "execution_count": null,
   "id": "c70f5e88",
   "metadata": {},
   "outputs": [],
   "source": [
    "# Read in the SF vs. NY data and take a look...\n",
    "data = pd.read_csv('https://raw.githubusercontent.com/jadeyee/r2d3-part-1-data/master/part_1_data.csv', skiprows=2)\n",
    "data.head()"
   ]
  },
  {
   "cell_type": "code",
   "execution_count": null,
   "id": "d2bf63df",
   "metadata": {},
   "outputs": [],
   "source": [
    "# sklearn (SciKit-learn) is a popular ML package we will be using\n",
    "from sklearn.tree import DecisionTreeClassifier"
   ]
  },
  {
   "cell_type": "markdown",
   "id": "2a4a5c1d",
   "metadata": {},
   "source": [
    "## Digression: Terminology\n",
    "* It's common in ML for the input (i.e., the data used to train the model) to be labeled __`X`__ and the target (i.e., what you are trying to predict) to be labeled __`y`__\n",
    "* Note that what we want to predict is whether the home is in SF or NY\n",
    "* The first column tells us that by using a \"dummy variable\", an integer whose value is 0 if the home is in NY or 1 if it's in SF\n",
    "* We need to remove that column and identify it as __`Y`__"
   ]
  },
  {
   "cell_type": "code",
   "execution_count": null,
   "id": "26fc39ac",
   "metadata": {},
   "outputs": [],
   "source": [
    "X = data\n",
    "y = X.in_sf\n",
    "X = X.drop(columns=['in_sf'])"
   ]
  },
  {
   "cell_type": "code",
   "execution_count": null,
   "id": "24eb59ac",
   "metadata": {},
   "outputs": [],
   "source": [
    "X"
   ]
  },
  {
   "cell_type": "code",
   "execution_count": null,
   "id": "80698e45",
   "metadata": {},
   "outputs": [],
   "source": [
    "y"
   ]
  },
  {
   "cell_type": "markdown",
   "id": "846eb5a9",
   "metadata": {},
   "source": [
    "## Let's create a Decision Tree..."
   ]
  },
  {
   "cell_type": "code",
   "execution_count": null,
   "id": "04c6cceb",
   "metadata": {},
   "outputs": [],
   "source": [
    "tree = DecisionTreeClassifier(max_depth=2)"
   ]
  },
  {
   "cell_type": "markdown",
   "id": "05afa257",
   "metadata": {},
   "source": [
    "## Now let's train the Decision Tree on our data\n",
    "* this process is called _fitting_ the data\n",
    "* once we fit the data, we have a _model_, which is essentially a predictor\n",
    "  * we \"feed\" the model some data describing a home...\n",
    "  * ...and it will predict whether the home is in SF or NY"
   ]
  },
  {
   "cell_type": "code",
   "execution_count": null,
   "id": "a44f25af",
   "metadata": {},
   "outputs": [],
   "source": [
    "tree.fit(X, y)"
   ]
  },
  {
   "cell_type": "markdown",
   "id": "0ccdd6f5",
   "metadata": {},
   "source": [
    "## Let's take a look at the decision tree..."
   ]
  },
  {
   "cell_type": "code",
   "execution_count": null,
   "id": "dece815f",
   "metadata": {},
   "outputs": [],
   "source": [
    "# We'll use a tool called graphviz to generate a graph (.dot file)\n",
    "# If it doesn't work, we'll use scikit-learn to see the tree...\n",
    "from sklearn.tree import export_graphviz\n",
    "export_graphviz(tree, out_file=\"sf_vs_ny_tree.dot\",\n",
    "               feature_names=X.columns,\n",
    "               class_names='NY SF'.split(),\n",
    "               rounded=True,\n",
    "               filled=True)"
   ]
  },
  {
   "cell_type": "code",
   "execution_count": null,
   "id": "14f2ca0d",
   "metadata": {},
   "outputs": [],
   "source": [
    "# The dot command will convert the tree from a .dot file to a .png\n",
    "!dot -Tpng sf_vs_ny_tree.dot -o sf_vs_ny.png\n",
    "from IPython.display import Image\n",
    "Image('sf_vs_ny.png')"
   ]
  },
  {
   "cell_type": "code",
   "execution_count": null,
   "id": "1ed40a91",
   "metadata": {},
   "outputs": [],
   "source": [
    "from sklearn.tree import plot_tree\n",
    "import matplotlib.pyplot as plt\n",
    "plt.figure(figsize=(16, 7))\n",
    "plot_tree(tree, feature_names=X.columns);"
   ]
  },
  {
   "cell_type": "markdown",
   "id": "d355e639",
   "metadata": {},
   "source": [
    "## Now let's check our accuracy..."
   ]
  },
  {
   "cell_type": "code",
   "execution_count": null,
   "id": "f5958125",
   "metadata": {},
   "outputs": [],
   "source": [
    "tree.score(X, y)"
   ]
  },
  {
   "cell_type": "code",
   "execution_count": null,
   "id": "d4d267b3",
   "metadata": {},
   "outputs": [],
   "source": []
  }
 ],
 "metadata": {
  "kernelspec": {
   "display_name": "Python 3 (ipykernel)",
   "language": "python",
   "name": "python3"
  },
  "language_info": {
   "codemirror_mode": {
    "name": "ipython",
    "version": 3
   },
   "file_extension": ".py",
   "mimetype": "text/x-python",
   "name": "python",
   "nbconvert_exporter": "python",
   "pygments_lexer": "ipython3",
   "version": "3.8.2"
  }
 },
 "nbformat": 4,
 "nbformat_minor": 5
}
