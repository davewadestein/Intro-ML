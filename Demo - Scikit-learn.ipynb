{
 "cells": [
  {
   "cell_type": "markdown",
   "metadata": {},
   "source": [
    "# Demo: __`scikit-learn`__\n",
    "* popular Python library providing efficient implementation of a large number of ML algorithms\n",
    "* designed to be clean and uniform across tools\n",
    "* consistent data representation and common interface"
   ]
  },
  {
   "cell_type": "markdown",
   "metadata": {},
   "source": [
    "# __`scikit-learn`__ Data Representation\n",
    "<img style=\"height: 400px;\" src=\"images/scikit-learn-data.png\">\n",
    "\n",
    "* each _observation_ (or _sample_ or _data point_) typically has multiple _features_\n",
    "  * that's why each sample is represented as a _row_ above\n",
    "  * each row can, and often does, contain multiple features\n",
    "* the _target_, however, is one-dimensional, i.e., we are making _one_ prediction (e.g., age, home price, cancer vs. benign, etc.)"
   ]
  },
  {
   "cell_type": "markdown",
   "metadata": {},
   "source": [
    "## Let's run the \"Hello, World!\" of Machine Learning\n",
    "* The \"iris\" dataset\n",
    "* Three different species of iris plants: Setosa, Virginica, Versicolour\n",
    "* Data collected by Ronald Fisher in 1936\n",
    "  * length and width of the petal and the sepal"
   ]
  },
  {
   "cell_type": "markdown",
   "metadata": {},
   "source": [
    "![Iris Plant](images/Iris_versicolor_3.jpg)"
   ]
  },
  {
   "cell_type": "code",
   "execution_count": null,
   "metadata": {},
   "outputs": [],
   "source": [
    "%matplotlib inline\n",
    "import numpy as np\n",
    "import pandas as pd\n",
    "import matplotlib.pyplot as plt\n",
    "from sklearn import datasets"
   ]
  },
  {
   "cell_type": "markdown",
   "metadata": {},
   "source": [
    "## Above we imported the Python packages we need\n",
    "* In the case of __`sklearn`__, we need the __`datasets`__ _module_ (a file of Python code) which contains some oft-used datasets"
   ]
  },
  {
   "cell_type": "code",
   "execution_count": null,
   "metadata": {},
   "outputs": [],
   "source": [
    "# load the iris dataset that ships with scikit learn\n",
    "iris = datasets.load_iris()\n",
    "data = pd.DataFrame(data=np.c_[iris['data'], iris['target']],\n",
    "                   columns=iris['feature_names'] + ['target'])\n",
    "data.head()"
   ]
  },
  {
   "cell_type": "markdown",
   "metadata": {},
   "source": [
    "## Let's plot the sepal length vs. the sepal width"
   ]
  },
  {
   "cell_type": "code",
   "execution_count": null,
   "metadata": {},
   "outputs": [],
   "source": [
    "plt.rcParams[\"figure.figsize\"] = (10, 7)\n",
    "plt.title('The Iris Dataset')\n",
    "plt.xlabel('Sepal Length')\n",
    "plt.ylabel('Sepal Width')\n",
    "cmap = plt.get_cmap('prism')\n",
    "norm = plt.Normalize(iris.target.min(), iris.target.max())\n",
    "handles = [plt.Line2D([0, 0], [0, 0], color=cmap(norm(i)), marker='o', linestyle='', label=label)\n",
    "           for i, label in enumerate(iris.target_names)]\n",
    "plt.legend(handles=handles, title='Species', loc='upper right')\n",
    "plt.scatter(data.iloc[:, 0], data.iloc[:, 1], c=iris.target, cmap='prism', s=150);"
   ]
  },
  {
   "cell_type": "code",
   "execution_count": null,
   "metadata": {},
   "outputs": [],
   "source": [
    "# Set up the feature matrix\n",
    "X_iris = data.drop('target', axis=1)\n",
    "X_iris.shape"
   ]
  },
  {
   "cell_type": "code",
   "execution_count": null,
   "metadata": {},
   "outputs": [],
   "source": [
    "# Set up the target vector\n",
    "y_iris = iris['target']\n",
    "y_iris.shape"
   ]
  },
  {
   "cell_type": "markdown",
   "metadata": {},
   "source": [
    "# General Workflow\n",
    "* Choose an algorithm\n",
    "* Choose hyperparameters (parameters to the algorithm)\n",
    "* Arrange data into a features matrix (i.e., 2-D) and target vector (1-D)\n",
    "* Fit the model to the data with the __`fit()`__ method\n",
    "* Apply the model to test data (__`predict()`__ or __`transform()`__)"
   ]
  },
  {
   "cell_type": "code",
   "execution_count": null,
   "metadata": {},
   "outputs": [],
   "source": [
    "from sklearn.tree import DecisionTreeClassifier\n",
    "tree_clf = DecisionTreeClassifier(max_depth=2)\n",
    "\n",
    "# Let's split out dataset into training and test, in order to \n",
    "# see how well our model actually does.\n",
    "from sklearn.model_selection import train_test_split\n",
    "X_train, X_test, y_train, y_test = train_test_split(X_iris, y_iris, test_size=0.25, random_state=3)\n",
    "tree_clf.fit(X_train, y_train)"
   ]
  },
  {
   "cell_type": "code",
   "execution_count": null,
   "metadata": {},
   "outputs": [],
   "source": [
    "print(X_train.shape, X_test.shape, sep='\\n')"
   ]
  },
  {
   "cell_type": "code",
   "execution_count": null,
   "metadata": {},
   "outputs": [],
   "source": [
    "tree_clf.score(X_test, y_test)"
   ]
  },
  {
   "cell_type": "code",
   "execution_count": null,
   "metadata": {},
   "outputs": [],
   "source": [
    "# Let's check the test data, one by one, and see how\n",
    "# many we got right.\n",
    "correct = 0\n",
    "\n",
    "for i in range(X_test.shape[0]):\n",
    "    row = np.array(X_test.iloc[i, :])\n",
    "    pred = tree_clf.predict([row])\n",
    "    print(f'prediction for {row} is {pred[0]}, actual is {y_test[i]}', end='')\n",
    "    if pred[0] == y_test[i]:\n",
    "        correct += 1\n",
    "    else:\n",
    "        print('*', end='')\n",
    "    print()\n",
    "print(correct / X_test.shape[0])"
   ]
  },
  {
   "cell_type": "code",
   "execution_count": null,
   "metadata": {},
   "outputs": [],
   "source": []
  }
 ],
 "metadata": {
  "kernelspec": {
   "display_name": "Python 3 (ipykernel)",
   "language": "python",
   "name": "python3"
  },
  "language_info": {
   "codemirror_mode": {
    "name": "ipython",
    "version": 3
   },
   "file_extension": ".py",
   "mimetype": "text/x-python",
   "name": "python",
   "nbconvert_exporter": "python",
   "pygments_lexer": "ipython3",
   "version": "3.8.2"
  }
 },
 "nbformat": 4,
 "nbformat_minor": 2
}
