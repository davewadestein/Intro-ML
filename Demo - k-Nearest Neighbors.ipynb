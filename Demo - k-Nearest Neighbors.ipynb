{
 "cells": [
  {
   "cell_type": "markdown",
   "metadata": {
    "colab_type": "text",
    "id": "n3sTJ7Moez-v"
   },
   "source": [
    "# Demo: K-Nearest Neighbors\n",
    "* adapted from https://github.com/Anyesh/KNN-notebook"
   ]
  },
  {
   "cell_type": "code",
   "execution_count": null,
   "metadata": {
    "colab": {},
    "colab_type": "code",
    "id": "KSqRUwOMeRyQ"
   },
   "outputs": [],
   "source": [
    "import numpy as np\n",
    "import pandas as pd\n",
    "import seaborn as sns\n",
    "import matplotlib.pyplot as plt\n",
    "import itertools\n",
    "from mlxtend.plotting import plot_decision_regions\n",
    "\n",
    "from sklearn import datasets\n",
    "from sklearn.model_selection import train_test_split\n",
    "from sklearn.neighbors import KNeighborsClassifier\n",
    "from sklearn.metrics import classification_report, accuracy_score, plot_confusion_matrix, confusion_matrix\n",
    "\n",
    "%matplotlib inline\n",
    "plt.rcParams[\"figure.figsize\"] = (10,5)"
   ]
  },
  {
   "cell_type": "markdown",
   "metadata": {
    "colab_type": "text",
    "id": "9MNTJdtJhtVr"
   },
   "source": [
    "# Exploring the dataset"
   ]
  },
  {
   "cell_type": "code",
   "execution_count": null,
   "metadata": {
    "colab": {
     "base_uri": "https://localhost:8080/",
     "height": 195
    },
    "colab_type": "code",
    "id": "2OtRJHNZhnT0",
    "outputId": "ba4fc301-79ac-47f9-fbb3-145abb9a435a"
   },
   "outputs": [],
   "source": [
    "dataset = datasets.load_iris()\n",
    "df = pd.DataFrame(data=np.c_[dataset['data'], dataset['target']],\n",
    "                    columns=dataset['feature_names'] + ['target'])\n",
    "\n",
    "df.head()"
   ]
  },
  {
   "cell_type": "code",
   "execution_count": null,
   "metadata": {
    "colab": {
     "base_uri": "https://localhost:8080/",
     "height": 765
    },
    "colab_type": "code",
    "id": "58ilEDbBnPm1",
    "outputId": "f4f978ff-b31d-457c-9636-6f70d880720d"
   },
   "outputs": [],
   "source": [
    "sns.pairplot(temp_df, hue='target');"
   ]
  },
  {
   "cell_type": "markdown",
   "metadata": {
    "colab_type": "text",
    "id": "xVG6_KNwlmME"
   },
   "source": [
    "# **KNN Models**\n",
    "Now we will build different models for different pairs of features to see how useful the features are to determine their species."
   ]
  },
  {
   "cell_type": "code",
   "execution_count": null,
   "metadata": {
    "colab": {},
    "colab_type": "code",
    "id": "fuFWReqQRQqk"
   },
   "outputs": [],
   "source": [
    "# Helper functions\n",
    "\n",
    "def display_confusion_matrix(\n",
    "    matrix, labels=None,\n",
    "    title=\"Confusion Matrix\",\n",
    "    xlabel=\"Predicted\",\n",
    "    ylabel=\"Actual\",\n",
    "    figsize=None,\n",
    "    cmap=\"Blues\",\n",
    "    vmin=None,\n",
    "    vmax=None,\n",
    "):\n",
    "    \"\"\"Display a confusion matrix. \n",
    "  \n",
    "    Display the confusion matrix found in matrix using matplotlib.\n",
    "  \n",
    "    Parameters\n",
    "    ----------\n",
    "    matrix : array-like\n",
    "        Confusion matrix to display, shape [n_classes, n_classes].\n",
    "    \n",
    "    labels : array-like, default=None\n",
    "        Class labels for the confusion matrix, shape [n_classes].\n",
    "        \n",
    "    title : str, default='Confusion Matrix'\n",
    "        Title displayed on the confusion matrix.\n",
    "    \n",
    "    xlabel : str, default='Predicted'\n",
    "        x-label displayed on the confusion matrix.\n",
    "    \n",
    "    ylabel : str, default='Actual'\n",
    "        y-label displayed on the confusion matrix.\n",
    "    \n",
    "    figsize : array-like\n",
    "        Array-like, length two, specifying the figsize of the plot.\n",
    "        \n",
    "    cmap : matplotib.colors.Colormap or str, default='Blues'\n",
    "        Colormap used when displaying the entries of the confusion matrix.\n",
    "        \n",
    "    vmin,vmax : int or float\n",
    "        *vmin* and *vmax* define the data range that the colormap covers.\n",
    "    \"\"\"\n",
    "    \n",
    "    if labels is None:\n",
    "        labels = [\"\"]*len(matrix)\n",
    "    if vmin is None:\n",
    "        vmin = 0.\n",
    "    if vmax is None:\n",
    "        vmax = np.sum(matrix[0])\n",
    "    t_hold = (vmax-vmin) / 2.\n",
    "    fig,ax = plt.subplots(figsize=figsize)\n",
    "    ax.imshow(matrix, cmap=cmap)\n",
    "    for row,col in itertools.product(range(len(labels)), range(len(labels))):\n",
    "        color = \"white\" if matrix[row,col] > t_hold else \"black\"\n",
    "        ax.text(col, row, matrix[row, col], horizontalalignment=\"center\", color=color)\n",
    "    tick_marks = np.arange(len(labels))\n",
    "    ax.set_title(title)\n",
    "    ax.set_xlabel(xlabel)\n",
    "    ax.set_xticks(np.arange(len(labels)))\n",
    "    ax.set_xticklabels(labels, rotation=40, ha=\"right\")\n",
    "    ax.set_ylabel(ylabel)\n",
    "    ax.set_yticks(np.arange(len(labels)))\n",
    "    ax.set_yticklabels(labels)\n",
    "    plt.show()"
   ]
  },
  {
   "cell_type": "markdown",
   "metadata": {
    "colab_type": "text",
    "id": "2EbuWMvtNg5y"
   },
   "source": [
    "## **Model 1 (Sepal Length & Sepal Width)**\n",
    "\n",
    "To start with, we are going to build a KNN model with Sepal Length & Sepal Width. We will train the model with these two features and evaluate how it performed using the classification map and the confusion matrix."
   ]
  },
  {
   "cell_type": "code",
   "execution_count": null,
   "metadata": {
    "colab": {
     "base_uri": "https://localhost:8080/",
     "height": 67
    },
    "colab_type": "code",
    "id": "9Nz65rKOlqVb",
    "outputId": "2b5a07d0-33fa-49ba-a98d-ea9bbb9ec60b"
   },
   "outputs": [],
   "source": [
    "X = df[['sepal length (cm)', 'sepal width (cm)']]\n",
    "y = df['target']\n",
    "X_train, X_test, y_train, y_test = train_test_split(X, y, stratify=y, test_size=0.3)\n",
    "\n",
    "model_1 = KNeighborsClassifier()\n",
    "model_1.fit(X_train, y_train)"
   ]
  },
  {
   "cell_type": "markdown",
   "metadata": {
    "colab_type": "text",
    "id": "gYw5x7YIl3uo"
   },
   "source": [
    "## **Model 1 Evaluation**"
   ]
  },
  {
   "cell_type": "code",
   "execution_count": null,
   "metadata": {
    "colab": {
     "base_uri": "https://localhost:8080/",
     "height": 337
    },
    "colab_type": "code",
    "id": "UIFqXKIgTNnZ",
    "outputId": "f6307ad1-8e17-411f-8bb9-85d840494f53"
   },
   "outputs": [],
   "source": [
    "plot_decision_regions(X_train.values, y_train.values.astype(np.integer), model_1);"
   ]
  },
  {
   "cell_type": "code",
   "execution_count": null,
   "metadata": {
    "colab": {
     "base_uri": "https://localhost:8080/",
     "height": 430
    },
    "colab_type": "code",
    "id": "xiYa3jJ9l0x-",
    "outputId": "2029abb6-2ec5-42e8-9fa7-155b836afe95"
   },
   "outputs": [],
   "source": [
    "y_hat = model_1.predict(X_test)\n",
    "labels = df[\"target\"].unique()\n",
    "\n",
    "matrix = confusion_matrix(y_test, y_hat, labels=labels, normalize=None)\n",
    "print(matrix)\n",
    "\n",
    "display_confusion_matrix(matrix, dataset.target_names)"
   ]
  },
  {
   "cell_type": "markdown",
   "metadata": {
    "colab_type": "text",
    "id": "wknq4jOvRzJx"
   },
   "source": [
    "# **Model 2 (Petal Length & Petal Width)**"
   ]
  },
  {
   "cell_type": "code",
   "execution_count": null,
   "metadata": {
    "colab": {
     "base_uri": "https://localhost:8080/",
     "height": 67
    },
    "colab_type": "code",
    "id": "4rIQ6N7aR3PH",
    "outputId": "7f0c5697-7a84-49e6-c7fa-28d5b89b68ef"
   },
   "outputs": [],
   "source": [
    "X = df[['petal length (cm)', 'petal width (cm)']]\n",
    "X_train, X_test, y_train, y_test = train_test_split(X, y, stratify=y, test_size=0.3)\n",
    "\n",
    "model_2 = KNeighborsClassifier()\n",
    "model_2.fit(X_train, y_train)"
   ]
  },
  {
   "cell_type": "markdown",
   "metadata": {
    "colab_type": "text",
    "id": "waaIJ7omR-lX"
   },
   "source": [
    "## **Model 2 Evaluation**"
   ]
  },
  {
   "cell_type": "code",
   "execution_count": null,
   "metadata": {
    "colab": {
     "base_uri": "https://localhost:8080/",
     "height": 341
    },
    "colab_type": "code",
    "id": "b3enUIsET4qc",
    "outputId": "a46aadc7-be78-4f04-aee8-6096cd0910f0"
   },
   "outputs": [],
   "source": [
    "plot_decision_regions(X_train.values, y_train.values.astype(np.integer), model_2);"
   ]
  },
  {
   "cell_type": "code",
   "execution_count": null,
   "metadata": {
    "colab": {
     "base_uri": "https://localhost:8080/",
     "height": 430
    },
    "colab_type": "code",
    "id": "v96IKnaNR8YB",
    "outputId": "fc69ad7b-0758-498a-ba53-2db611760bc0"
   },
   "outputs": [],
   "source": [
    "y_hat = model_2.predict(X_test)\n",
    "\n",
    "matrix = confusion_matrix(y_test, y_hat, labels=labels, normalize=None)\n",
    "print(matrix)\n",
    "\n",
    "display_confusion_matrix(matrix, dataset.target_names)"
   ]
  },
  {
   "cell_type": "markdown",
   "metadata": {
    "colab_type": "text",
    "id": "KLV5fsF5SFDO"
   },
   "source": [
    "# **Model 3 (All features)**\n",
    "\n",
    "Now for our final model, we are going to use all the available features and train our KNN model.\n"
   ]
  },
  {
   "cell_type": "code",
   "execution_count": null,
   "metadata": {
    "colab": {},
    "colab_type": "code",
    "id": "fQw1y2N4ST9t"
   },
   "outputs": [],
   "source": [
    "X = df.drop(['target'], axis=1)\n",
    "X_train, X_test, y_train, y_test = train_test_split(X, y, stratify=y, test_size=0.3)"
   ]
  },
  {
   "cell_type": "code",
   "execution_count": null,
   "metadata": {
    "colab": {
     "base_uri": "https://localhost:8080/",
     "height": 67
    },
    "colab_type": "code",
    "id": "_C-WQkbgSFlD",
    "outputId": "d4adc6b4-ea9b-4e5e-d027-3a82aabfee40"
   },
   "outputs": [],
   "source": [
    "model_3 = KNeighborsClassifier()\n",
    "model_3.fit(X_train, y_train)"
   ]
  },
  {
   "cell_type": "markdown",
   "metadata": {
    "colab_type": "text",
    "id": "wengkT8wSxTz"
   },
   "source": [
    "## **Model 3 Evaluation**"
   ]
  },
  {
   "cell_type": "code",
   "execution_count": null,
   "metadata": {
    "colab": {
     "base_uri": "https://localhost:8080/",
     "height": 430
    },
    "colab_type": "code",
    "id": "TMkVtAb_SZCD",
    "outputId": "13a9ecb8-7893-4e2a-b754-e2a07d89af34"
   },
   "outputs": [],
   "source": [
    "y_hat = model_3.predict(X_test)\n",
    "\n",
    "matrix = confusion_matrix(y_test, y_hat, labels=labels, normalize=None)\n",
    "print(matrix)\n",
    "\n",
    "display_confusion_matrix(matrix, dataset.target_names)"
   ]
  }
 ],
 "metadata": {
  "colab": {
   "collapsed_sections": [],
   "name": "KNN: Programming Material",
   "provenance": []
  },
  "kernelspec": {
   "display_name": "Python 3 (ipykernel)",
   "language": "python",
   "name": "python3"
  },
  "language_info": {
   "codemirror_mode": {
    "name": "ipython",
    "version": 3
   },
   "file_extension": ".py",
   "mimetype": "text/x-python",
   "name": "python",
   "nbconvert_exporter": "python",
   "pygments_lexer": "ipython3",
   "version": "3.8.2"
  }
 },
 "nbformat": 4,
 "nbformat_minor": 1
}
