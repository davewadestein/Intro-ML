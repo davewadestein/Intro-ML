{
 "cells": [
  {
   "cell_type": "markdown",
   "metadata": {},
   "source": [
    "## Exercise: Build a logistic regression model to predict fish species\n",
    "* Adapted from: https://github.com/Tebs-Lab/data-science-three-day-workshop/blob/main/02-linear-logistic-regression/04-logistic-regression-exercise.ipynb\n",
    "\n",
    "* Using the dataset __`data/Fish.csv`__ do the following\n",
    "\n",
    "  1. Split data into features and labels (targets) with the __`species`__ column as the label and the other columns as features\n",
    "  2. Split the data into training and validation sets\n",
    "  3. Fit the model!\n",
    "  4. Score the model. What is this value? How should you interpret it?\n",
    "  5. Examine the coefficents and intercept value...\n",
    "    * These are a strange shape compared to linear regression \n",
    "    * Can you explain what they are?\n",
    "  6. Compute and plot a _confusion matrix_\n",
    "    * A confusion matrix is a summary of prediction results on a classification problem\n",
    "    * Is your model good at some classes and bad at others?\n",
    "    * Are there any interesting trends in the confusion matrix?"
   ]
  },
  {
   "cell_type": "code",
   "execution_count": null,
   "metadata": {},
   "outputs": [],
   "source": []
  }
 ],
 "metadata": {
  "kernelspec": {
   "display_name": "Python 3 (ipykernel)",
   "language": "python",
   "name": "python3"
  },
  "language_info": {
   "codemirror_mode": {
    "name": "ipython",
    "version": 3
   },
   "file_extension": ".py",
   "mimetype": "text/x-python",
   "name": "python",
   "nbconvert_exporter": "python",
   "pygments_lexer": "ipython3",
   "version": "3.8.2"
  }
 },
 "nbformat": 4,
 "nbformat_minor": 4
}
