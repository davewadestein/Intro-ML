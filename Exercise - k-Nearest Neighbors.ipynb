{
 "cells": [
  {
   "cell_type": "markdown",
   "id": "13d0c362",
   "metadata": {},
   "source": [
    "# Exercise: k-Nearest Neighbors\n",
    "1. Read in the Social Networks Ads dataset __`data/Social_Network_Ads.csv`__\n",
    "1. Examine the dataset\n",
    "1. Drop any irrelevant columns\n",
    "1. Deal with categorical variables\n",
    "1. The target is whether the person purchased the item or not\n",
    "1. Split your data into training and test sets\n",
    "1. Use the default KNeighborsClassifier\n",
    "1. Generate a confusion matrix to see how your model performed\n",
    "1. kNN will not perform well when the inputs are not properly scaled\n",
    "  * the scale of the values of Age, EstimatedSalary, and Gender are wildly different\n",
    "  * use a __StandardScaler()__ from __`sklearn.preprocessing`__ to scale your X values as follows and try again\n",
    "  * __`sc = StandardScaler()`__\n",
    "  * __`X_train = sc.fit_transform(X_train)`__\n",
    "  * __`X_test = sc.transform(X_test)`__\n",
    "1. Did your model perform better after scaling?\n",
    "1. If you have time, try different values of k"
   ]
  },
  {
   "cell_type": "code",
   "execution_count": null,
   "id": "5167c613",
   "metadata": {},
   "outputs": [],
   "source": []
  }
 ],
 "metadata": {
  "kernelspec": {
   "display_name": "Python 3 (ipykernel)",
   "language": "python",
   "name": "python3"
  },
  "language_info": {
   "codemirror_mode": {
    "name": "ipython",
    "version": 3
   },
   "file_extension": ".py",
   "mimetype": "text/x-python",
   "name": "python",
   "nbconvert_exporter": "python",
   "pygments_lexer": "ipython3",
   "version": "3.8.2"
  }
 },
 "nbformat": 4,
 "nbformat_minor": 5
}
