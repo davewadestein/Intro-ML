{
 "cells": [
  {
   "cell_type": "markdown",
   "metadata": {},
   "source": [
    "## Exercise: Build a logistic regression model to predict fish species\n",
    "* Adapted from: https://github.com/Tebs-Lab/data-science-three-day-workshop/blob/main/02-linear-logistic-regression/04-logistic-regression-exercise.ipynb\n",
    "\n",
    "* Using the dataset __`data/Fish.csv`__ do the following\n",
    "\n",
    "  1. Split data into features and labels (targets) with the __`species`__ column as the label and the other columns as features\n",
    "  2. Split the data into training and validation sets\n",
    "  3. Fit the model!\n",
    "  4. Score the model. What is this value? How should you interpret it?\n",
    "  5. Examine the coefficents and intercept value...\n",
    "    * These are a strange shape compared to linear regression \n",
    "    * Can you explain what they are?\n",
    "  6. Compute and plot a _confusion matrix_\n",
    "    * A confusion matrix is a summary of prediction results on a classification problem\n",
    "    * Is your model good at some classes and bad at others?\n",
    "    * Are there any interesting trends in the confusion matrix?"
   ]
  },
  {
   "cell_type": "code",
   "execution_count": 112,
   "metadata": {},
   "outputs": [],
   "source": [
    "import numpy as np\n",
    "import pandas as pd\n",
    "from sklearn.linear_model import LogisticRegression\n",
    "from sklearn.model_selection import train_test_split\n",
    "import matplotlib.pyplot as plt"
   ]
  },
  {
   "cell_type": "code",
   "execution_count": 113,
   "metadata": {},
   "outputs": [
    {
     "data": {
      "text/html": [
       "<div>\n",
       "<style scoped>\n",
       "    .dataframe tbody tr th:only-of-type {\n",
       "        vertical-align: middle;\n",
       "    }\n",
       "\n",
       "    .dataframe tbody tr th {\n",
       "        vertical-align: top;\n",
       "    }\n",
       "\n",
       "    .dataframe thead th {\n",
       "        text-align: right;\n",
       "    }\n",
       "</style>\n",
       "<table border=\"1\" class=\"dataframe\">\n",
       "  <thead>\n",
       "    <tr style=\"text-align: right;\">\n",
       "      <th></th>\n",
       "      <th>Species</th>\n",
       "      <th>Weight</th>\n",
       "      <th>Length1</th>\n",
       "      <th>Length2</th>\n",
       "      <th>Length3</th>\n",
       "      <th>Height</th>\n",
       "      <th>Width</th>\n",
       "    </tr>\n",
       "  </thead>\n",
       "  <tbody>\n",
       "    <tr>\n",
       "      <th>0</th>\n",
       "      <td>Bream</td>\n",
       "      <td>242.0</td>\n",
       "      <td>23.2</td>\n",
       "      <td>25.4</td>\n",
       "      <td>30.0</td>\n",
       "      <td>11.5200</td>\n",
       "      <td>4.0200</td>\n",
       "    </tr>\n",
       "    <tr>\n",
       "      <th>1</th>\n",
       "      <td>Bream</td>\n",
       "      <td>290.0</td>\n",
       "      <td>24.0</td>\n",
       "      <td>26.3</td>\n",
       "      <td>31.2</td>\n",
       "      <td>12.4800</td>\n",
       "      <td>4.3056</td>\n",
       "    </tr>\n",
       "    <tr>\n",
       "      <th>2</th>\n",
       "      <td>Bream</td>\n",
       "      <td>340.0</td>\n",
       "      <td>23.9</td>\n",
       "      <td>26.5</td>\n",
       "      <td>31.1</td>\n",
       "      <td>12.3778</td>\n",
       "      <td>4.6961</td>\n",
       "    </tr>\n",
       "    <tr>\n",
       "      <th>3</th>\n",
       "      <td>Bream</td>\n",
       "      <td>363.0</td>\n",
       "      <td>26.3</td>\n",
       "      <td>29.0</td>\n",
       "      <td>33.5</td>\n",
       "      <td>12.7300</td>\n",
       "      <td>4.4555</td>\n",
       "    </tr>\n",
       "    <tr>\n",
       "      <th>4</th>\n",
       "      <td>Bream</td>\n",
       "      <td>430.0</td>\n",
       "      <td>26.5</td>\n",
       "      <td>29.0</td>\n",
       "      <td>34.0</td>\n",
       "      <td>12.4440</td>\n",
       "      <td>5.1340</td>\n",
       "    </tr>\n",
       "  </tbody>\n",
       "</table>\n",
       "</div>"
      ],
      "text/plain": [
       "  Species  Weight  Length1  Length2  Length3   Height   Width\n",
       "0   Bream   242.0     23.2     25.4     30.0  11.5200  4.0200\n",
       "1   Bream   290.0     24.0     26.3     31.2  12.4800  4.3056\n",
       "2   Bream   340.0     23.9     26.5     31.1  12.3778  4.6961\n",
       "3   Bream   363.0     26.3     29.0     33.5  12.7300  4.4555\n",
       "4   Bream   430.0     26.5     29.0     34.0  12.4440  5.1340"
      ]
     },
     "execution_count": 113,
     "metadata": {},
     "output_type": "execute_result"
    }
   ],
   "source": [
    "# Load the data\n",
    "fish_dataset = pd.read_csv('data/Fish.csv')\n",
    "fish_dataset.head()"
   ]
  },
  {
   "cell_type": "code",
   "execution_count": 114,
   "metadata": {},
   "outputs": [],
   "source": [
    "# 1. split data into labels and features\n",
    "labels = fish_dataset['Species']\n",
    "features = fish_dataset.drop(['Species'], axis=1)"
   ]
  },
  {
   "cell_type": "code",
   "execution_count": 115,
   "metadata": {},
   "outputs": [],
   "source": [
    "training_data, test_data, training_labels, test_labels = \\\n",
    "        train_test_split(features, labels, test_size=0.2, random_state=112)"
   ]
  },
  {
   "cell_type": "code",
   "execution_count": 116,
   "metadata": {},
   "outputs": [
    {
     "name": "stdout",
     "output_type": "stream",
     "text": [
      "0.625\n"
     ]
    },
    {
     "name": "stderr",
     "output_type": "stream",
     "text": [
      "/Users/dave-wadestein/Library/Python/3.8/lib/python/site-packages/sklearn/linear_model/_logistic.py:763: ConvergenceWarning: lbfgs failed to converge (status=1):\n",
      "STOP: TOTAL NO. of ITERATIONS REACHED LIMIT.\n",
      "\n",
      "Increase the number of iterations (max_iter) or scale the data as shown in:\n",
      "    https://scikit-learn.org/stable/modules/preprocessing.html\n",
      "Please also refer to the documentation for alternative solver options:\n",
      "    https://scikit-learn.org/stable/modules/linear_model.html#logistic-regression\n",
      "  n_iter_i = _check_optimize_result(\n"
     ]
    }
   ],
   "source": [
    "# 3. fit the model\n",
    "model = LogisticRegression()\n",
    "model.fit(training_data, training_labels)\n",
    "\n",
    "# 4. score the model\n",
    "print(model.score(test_data, test_labels))"
   ]
  },
  {
   "cell_type": "markdown",
   "metadata": {},
   "source": [
    "### What about that error?\n",
    "\n",
    "* During the training process the model did not converge to a stable state\n",
    "* During training the coefs are each adjusted by a small amount (the exact amount depends on the solver used, and how bad the predictions were during this round of training)\n",
    "* Eventually, as the model trains we expect the adjustments to get smaller and smaller as the model \"converges\" to a state where its predictions are no longer improving due to the new adjustments.\n",
    "\n",
    "* Let's give our model some more iterations to converge..."
   ]
  },
  {
   "cell_type": "code",
   "execution_count": 119,
   "metadata": {},
   "outputs": [
    {
     "data": {
      "text/plain": [
       "LogisticRegression(max_iter=20000)"
      ]
     },
     "execution_count": 119,
     "metadata": {},
     "output_type": "execute_result"
    }
   ],
   "source": [
    "# 3. fit the model\n",
    "model = LogisticRegression(max_iter=20_000)\n",
    "model.fit(training_data, training_labels)"
   ]
  },
  {
   "cell_type": "code",
   "execution_count": 120,
   "metadata": {},
   "outputs": [
    {
     "name": "stdout",
     "output_type": "stream",
     "text": [
      "0.875\n"
     ]
    }
   ],
   "source": [
    "# 4. score the model\n",
    "print(model.score(test_data, test_labels))"
   ]
  },
  {
   "cell_type": "markdown",
   "metadata": {},
   "source": [
    "## Note\n",
    "\n",
    "* An __`ovr`__ (\"One Versus the Rest\") regression will generally converge much faster...let's see if that holds up in this case"
   ]
  },
  {
   "cell_type": "code",
   "execution_count": 121,
   "metadata": {},
   "outputs": [
    {
     "data": {
      "text/plain": [
       "LogisticRegression(max_iter=500, multi_class='ovr')"
      ]
     },
     "execution_count": 121,
     "metadata": {},
     "output_type": "execute_result"
    }
   ],
   "source": [
    "# 3. fit the model\n",
    "model = LogisticRegression(max_iter=500, multi_class='ovr')\n",
    "model.fit(training_data, training_labels)"
   ]
  },
  {
   "cell_type": "code",
   "execution_count": 122,
   "metadata": {},
   "outputs": [
    {
     "name": "stdout",
     "output_type": "stream",
     "text": [
      "0.875\n"
     ]
    }
   ],
   "source": [
    "# 4. score the model\n",
    "print(model.score(test_data, test_labels))"
   ]
  },
  {
   "cell_type": "markdown",
   "metadata": {},
   "source": [
    "**Faster to train, and identical accuracy in this case!**\n",
    "\n",
    "* That won't ALWAYS be true, sometimes the default __`multinomial`__ will outperform __`ovr`__ but it's worth trying __`ovr`__ first because if it's good enough you might not need to spend the extra time training a __`multinomial`__"
   ]
  },
  {
   "cell_type": "markdown",
   "metadata": {},
   "source": [
    "### What was that score value?\n",
    "\n",
    "* The __`.score()`__ function yields \"accuracy\", i.e., the percentage of time our model correctly predicts the species of fish"
   ]
  },
  {
   "cell_type": "code",
   "execution_count": 24,
   "metadata": {},
   "outputs": [
    {
     "name": "stdout",
     "output_type": "stream",
     "text": [
      "[[-1.21907943e-02 -4.16609370e-01 -2.63220839e-01  8.22562081e-01\n",
      "   1.59503834e+00 -1.26440838e-01]\n",
      " [-2.62137229e-02 -2.06440487e-02 -1.32556533e-01 -5.01133791e-01\n",
      "   2.07879014e+00 -8.82756640e-02]\n",
      " [-3.01476313e-03  3.97826115e-01  2.44731002e+00 -2.88113121e+00\n",
      "   1.48207830e-01  1.90982021e+00]\n",
      " [-2.55466783e-02  4.25541386e-01  4.59213909e-01  5.25986062e-01\n",
      "  -5.39465677e-01 -1.74508185e-01]\n",
      " [-2.11633310e-02  5.85844361e-02 -1.51025876e+00  1.44227535e+00\n",
      "  -3.49544138e-01  2.01983779e+00]\n",
      " [-8.19201345e-02  4.25444227e-01 -5.46126973e-03  8.22216490e-02\n",
      "  -1.53145262e+00 -7.39968655e-01]\n",
      " [ 1.67949335e-03 -4.75024959e-01 -4.85715260e-02  3.63223671e-01\n",
      "  -2.74465267e-01  1.03913983e+00]] \n",
      "\n",
      " [-21.13194703   0.19167867  -0.43199772 -34.08286519  -5.61106896\n",
      "   1.65634396  -3.76674339]\n"
     ]
    }
   ],
   "source": [
    "print(model.coef_, '\\n\\n', model.intercept_)"
   ]
  },
  {
   "cell_type": "markdown",
   "metadata": {},
   "source": [
    "## What is that?\n",
    "\n",
    "* __`coef_`__ consists of 7 arrays each of length 6\n",
    "  * i.e., one array of coefficents for each of the sigmoid functions that was fitted\n",
    "  * ...and one coefficient per input feature in each of those arrays \n",
    "\n",
    "* the intercept also has 7 values: one for each of the species, i.e., one for each of the fitted sigmoid functions\n",
    "\n",
    "## Confusion Matrix\n",
    "* a helpful visual tool to identify how our model is performing with respect to each individual class\n",
    "* __`len(labels) x len(labels)`__ matrix\n",
    "* columns indicate our model's prediction and rows indicate the actual labels"
   ]
  },
  {
   "cell_type": "code",
   "execution_count": 125,
   "metadata": {},
   "outputs": [
    {
     "name": "stdout",
     "output_type": "stream",
     "text": [
      "[[8 0 0 0 0 0 0]\n",
      " [0 3 0 0 0 0 0]\n",
      " [0 0 9 0 0 0 0]\n",
      " [0 0 0 2 0 0 0]\n",
      " [0 0 1 0 3 0 0]\n",
      " [0 0 0 0 0 3 0]\n",
      " [0 0 3 0 0 0 0]]\n"
     ]
    }
   ],
   "source": [
    "from sklearn.metrics import confusion_matrix\n",
    "\n",
    "predictions = model.predict(test_data)\n",
    "cm = confusion_matrix(test_labels, predictions)\n",
    "print(cm)"
   ]
  },
  {
   "cell_type": "markdown",
   "metadata": {},
   "source": [
    "## We can display the confusion matrix as an image..."
   ]
  },
  {
   "cell_type": "code",
   "execution_count": 127,
   "metadata": {},
   "outputs": [
    {
     "data": {
      "image/png": "[encoded data removed]",
      "text/plain": [
       "<Figure size 432x288 with 1 Axes>"
      ]
     },
     "metadata": {
      "needs_background": "light"
     },
     "output_type": "display_data"
    }
   ],
   "source": [
    "plt.imshow(cm, cmap='binary');"
   ]
  },
  {
   "cell_type": "markdown",
   "metadata": {},
   "source": [
    "## We can make a prettier image using a library called seaborn"
   ]
  },
  {
   "cell_type": "code",
   "execution_count": 128,
   "metadata": {},
   "outputs": [
    {
     "data": {
      "image/png": "[encoded data removed]",
      "text/plain": [
       "<Figure size 432x288 with 2 Axes>"
      ]
     },
     "metadata": {
      "needs_background": "light"
     },
     "output_type": "display_data"
    }
   ],
   "source": [
    "import seaborn as sns\n",
    "\n",
    "name_labels = model.classes_\n",
    "\n",
    "sns.heatmap(cm, annot=True, xticklabels=name_labels, yticklabels=name_labels)\n",
    "plt.show()"
   ]
  },
  {
   "cell_type": "markdown",
   "metadata": {},
   "source": [
    "## Notes\n",
    "\n",
    "* This visualization makes it clear that our test data is very small\n",
    "* We're usually right, but we've got 2 forms of error\n",
    "    * 3 Whitefish classified as Perch\n",
    "    * 1 Roach being classified as a Perch\n",
    "    \n",
    "* Just for fun, lets see this chart with the training data..."
   ]
  },
  {
   "cell_type": "code",
   "execution_count": 130,
   "metadata": {},
   "outputs": [
    {
     "data": {
      "image/png": "[encoded data removed]",
      "text/plain": [
       "<Figure size 432x288 with 2 Axes>"
      ]
     },
     "metadata": {
      "needs_background": "light"
     },
     "output_type": "display_data"
    }
   ],
   "source": [
    "predictions = model.predict(training_data)\n",
    "cm = confusion_matrix(training_labels, predictions)\n",
    "sn.heatmap(cm, annot=True, xticklabels=name_labels, yticklabels=name_labels)\n",
    "plt.show()"
   ]
  },
  {
   "cell_type": "markdown",
   "metadata": {},
   "source": [
    "**This dataset is way too small, but we can see that Whitefish are apparently a challenge, possibly because we have so few samples of that class compared to the others**\n",
    "\n",
    "* This problem, called _class imbalance_ is something to be aware of\n",
    "* ML models work best when each class is more-or-less equally represented in the training data\n",
    "* Note that wasn't a problem for Parkki in this case..."
   ]
  },
  {
   "cell_type": "code",
   "execution_count": null,
   "metadata": {},
   "outputs": [],
   "source": []
  }
 ],
 "metadata": {
  "kernelspec": {
   "display_name": "Python 3 (ipykernel)",
   "language": "python",
   "name": "python3"
  },
  "language_info": {
   "codemirror_mode": {
    "name": "ipython",
    "version": 3
   },
   "file_extension": ".py",
   "mimetype": "text/x-python",
   "name": "python",
   "nbconvert_exporter": "python",
   "pygments_lexer": "ipython3",
   "version": "3.8.2"
  }
 },
 "nbformat": 4,
 "nbformat_minor": 4
}
