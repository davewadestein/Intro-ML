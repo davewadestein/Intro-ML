{
 "cells": [
  {
   "cell_type": "markdown",
   "id": "159d8304",
   "metadata": {},
   "source": [
    "# Solution: k-Nearest Neighbors"
   ]
  },
  {
   "cell_type": "code",
   "execution_count": null,
   "id": "23dd28c4",
   "metadata": {},
   "outputs": [],
   "source": [
    "import numpy as np\n",
    "import matplotlib.pyplot as plt\n",
    "import pandas as pd\n",
    "%matplotlib inline"
   ]
  },
  {
   "cell_type": "markdown",
   "id": "05cf0b97",
   "metadata": {},
   "source": [
    "### Read in the Social Networks Ads dataset __`data/Social_Network_Ads.csv`__"
   ]
  },
  {
   "cell_type": "code",
   "execution_count": null,
   "id": "32910db8",
   "metadata": {},
   "outputs": [],
   "source": [
    "# Read in the dataset\n",
    "data = pd.read_csv('data/Social_Network_Ads.csv')"
   ]
  },
  {
   "cell_type": "markdown",
   "id": "f2d0020b",
   "metadata": {},
   "source": [
    "### Examine the dataset"
   ]
  },
  {
   "cell_type": "code",
   "execution_count": null,
   "id": "d7ee9ec8",
   "metadata": {},
   "outputs": [],
   "source": [
    "data.head()"
   ]
  },
  {
   "cell_type": "markdown",
   "id": "29eac1ef",
   "metadata": {},
   "source": [
    "### Drop any irrelevant columns"
   ]
  },
  {
   "cell_type": "code",
   "execution_count": null,
   "id": "d712d5db",
   "metadata": {},
   "outputs": [],
   "source": [
    "# User ID is irrelvant and could be leakage data, so drop it\n",
    "data.drop(columns=['User ID'], inplace=True)"
   ]
  },
  {
   "cell_type": "markdown",
   "id": "0b4c1aaa",
   "metadata": {},
   "source": [
    "### Deal with categorical variables"
   ]
  },
  {
   "cell_type": "code",
   "execution_count": null,
   "id": "d6323b5b",
   "metadata": {},
   "outputs": [],
   "source": [
    "# Convert categorical variables to numeric\n",
    "data = pd.get_dummies(dataset, drop_first=True)"
   ]
  },
  {
   "cell_type": "markdown",
   "id": "efbe43b3",
   "metadata": {},
   "source": [
    "### The target is whether the person purchased the item or not"
   ]
  },
  {
   "cell_type": "code",
   "execution_count": null,
   "id": "2db590a6",
   "metadata": {},
   "outputs": [],
   "source": [
    "# Drop the target we are trying to predict\n",
    "X = data.drop(columns=['Purchased'])\n",
    "y = data['Purchased']"
   ]
  },
  {
   "cell_type": "markdown",
   "id": "87e06603",
   "metadata": {},
   "source": [
    "### Split your data into training and test sets"
   ]
  },
  {
   "cell_type": "code",
   "execution_count": null,
   "id": "76dbdfc8",
   "metadata": {},
   "outputs": [],
   "source": [
    "# Split the dataset into training and test sets\n",
    "from sklearn.model_selection import train_test_split\n",
    "X_train, X_test, y_train, y_test = train_test_split(X, y, test_size=0.25, random_state=13)"
   ]
  },
  {
   "cell_type": "markdown",
   "id": "54f22db4",
   "metadata": {},
   "source": [
    "### Use the default KNeighborsClassifier"
   ]
  },
  {
   "cell_type": "code",
   "execution_count": null,
   "id": "247babe7",
   "metadata": {},
   "outputs": [],
   "source": [
    "# Train the model\n",
    "from sklearn.neighbors import KNeighborsClassifier\n",
    "knn = KNeighborsClassifier()\n",
    "knn.fit(X_train, y_train)"
   ]
  },
  {
   "cell_type": "markdown",
   "id": "5c9b191e",
   "metadata": {},
   "source": [
    "### Generate a confusion matrix to see how your model performed"
   ]
  },
  {
   "cell_type": "code",
   "execution_count": null,
   "id": "ce73fb8f",
   "metadata": {},
   "outputs": [],
   "source": [
    "# Make predictions\n",
    "y_pred = knn.predict(X_test)"
   ]
  },
  {
   "cell_type": "code",
   "execution_count": null,
   "id": "d2e62021",
   "metadata": {},
   "outputs": [],
   "source": [
    "# Create the Confusion Matrix\n",
    "from sklearn.metrics import confusion_matrix\n",
    "cm = confusion_matrix(y_test, y_pred)\n",
    "cm"
   ]
  },
  {
   "cell_type": "code",
   "execution_count": null,
   "id": "c22481a4",
   "metadata": {},
   "outputs": [],
   "source": [
    "import seaborn as sns\n",
    "sns.heatmap(cm, annot=True, xticklabels='pred_no_buy pred_buy'.split(), yticklabels='no_buy buy'.split());"
   ]
  },
  {
   "cell_type": "markdown",
   "id": "13d0c362",
   "metadata": {},
   "source": [
    "### kNN will not perform well when the inputs are not properly scaled\n",
    "  * the scale of the values of Age, EstimatedSalary, and Gender are wildly different\n",
    "  * use a __StandardScaler()__ from __`sklearn.preprocessing`__ to scale your X values as follows and try again\n",
    "  * __`sc = StandardScaler()`__\n",
    "  * __`X_train = sc.fit_transform(X_train)`__\n",
    "  * __`X_test = sc.transform(X_test)`__\n",
    "1. Did your model perform better after scaling?\n",
    "1. If you have time, try different values of k"
   ]
  },
  {
   "cell_type": "code",
   "execution_count": null,
   "id": "7c9e3a45",
   "metadata": {},
   "outputs": [],
   "source": [
    "# Scale the data\n",
    "from sklearn.preprocessing import StandardScaler\n",
    "sc = StandardScaler()\n",
    "X_train = sc.fit_transform(X_train)\n",
    "X_test = sc.transform(X_test)"
   ]
  }
 ],
 "metadata": {
  "kernelspec": {
   "display_name": "Python 3 (ipykernel)",
   "language": "python",
   "name": "python3"
  },
  "language_info": {
   "codemirror_mode": {
    "name": "ipython",
    "version": 3
   },
   "file_extension": ".py",
   "mimetype": "text/x-python",
   "name": "python",
   "nbconvert_exporter": "python",
   "pygments_lexer": "ipython3",
   "version": "3.8.2"
  }
 },
 "nbformat": 4,
 "nbformat_minor": 5
}
